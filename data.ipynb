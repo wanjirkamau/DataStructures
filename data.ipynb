{
 "cells": [
  {
   "cell_type": "code",
   "execution_count": null,
   "metadata": {},
   "outputs": [],
   "source": [
    "# Python Program to Check Whether a String is a Palindrome Using a Stack\n",
    "\n",
    "class Stack:\n",
    "    def __init__(self):\n",
    "        self.items = []\n",
    "\n",
    "    def is_empty(self):\n",
    "        return self.items == []\n",
    "\n",
    "    def push(self, item):\n",
    "        self.items.append(item)\n",
    "\n",
    "    def pop(self):\n",
    "        return self.items.pop()\n",
    "\n",
    "    def peek(self):\n",
    "        return self.items[-1]\n",
    "\n",
    "    def size(self):\n",
    "        return len(self.items)\n",
    "\n",
    "def is_palindrome(s):\n",
    "    stack = Stack()\n",
    "\n",
    "    # Push all characters of the string onto the stack\n",
    "    for char in s:\n",
    "        stack.push(char)\n",
    "\n",
    "    reversed_s = \"\"\n",
    "    \n",
    "    # Pop all characters from the stack to reverse the string\n",
    "    while not stack.is_empty():\n",
    "        reversed_s += stack.pop()\n",
    "\n",
    "    # Check if the original string is the same as the reversed string\n",
    "    return s == reversed_s\n",
    "\n",
    "# Example usage:\n",
    "input_string = \"racecar\"\n",
    "print(is_palindrome(input_string))  # Output: should be True\n"
   ]
  },
  {
   "cell_type": "code",
   "execution_count": null,
   "metadata": {},
   "outputs": [],
   "source": [
    "# List Comprehension in Python\n",
    "# List comprehension is a quick method for creating lists in Python. It is made up of brackets with a phrase within, a for clause, and zero or more for or if clauses after that. \n",
    "# The expression will be evaluated inside the context of the for and if clauses, yielding a new list.\n",
    "\n",
    "\n",
    "# Example\n",
    "# Create a list of squares of numbers from 1 to 10\n",
    "squares = [x**2 for x in range(1, 11)]\n",
    "print(squares)\n",
    "\n",
    "\n",
    "even_squares = [x**2 for x in range(10) if x % 2 == 0]\n",
    "print(even_squares)  # Output: [0, 4, 16, 36, 64]\n",
    "\n",
    "\n",
    "\n",
    "# Create a list of squares of numbers from 1 to 10\n",
    "squares = [x**2 for x in range(1, 11)]\n",
    "print(squares)\n",
    "\n",
    "# \n",
    "odd_squares = [x**2 for x in range(10) if x % 2 == 1]\n",
    "print(odd_squares)  # Output: [1, 9, 25, 49, 81]\n",
    "\n",
    "# Nested List compresion\n",
    "\n",
    "matrix = [[1, 2, 3], [4, 5, 6], [7, 8, 9]]\n",
    "flat_list = [num for row in matrix for num in row]\n",
    "print(flat_list)  # Output: [1, 2, 3, 4, 5, 6, 7, 8, 9]\n"
   ]
  },
  {
   "cell_type": "code",
   "execution_count": 1,
   "metadata": {},
   "outputs": [],
   "source": [
    "# Compound Datatype in Python\n",
    "# Concept: A compound datatype is a data type that can hold multiple values or elements of potentially different types. \n",
    "# Python provides several built-in compound datatypes.\n",
    "\n",
    "# List \n",
    "\n",
    "my_list = [1, \"hola\", 3.14]\n",
    "\n",
    "# Tuple\n",
    "my_tuple = (10, \"Kotlin\", [1, 2, 3])\n",
    "\n",
    "# Dictionary\n",
    "\n",
    "my_dict = {'name': 'Wanjiru', 'age': 23, 'is_student': True}"
   ]
  },
  {
   "cell_type": "code",
   "execution_count": 2,
   "metadata": {},
   "outputs": [
    {
     "name": "stdout",
     "output_type": "stream",
     "text": [
      "[('I', 'love'), ('love', 'programming')]\n"
     ]
    }
   ],
   "source": [
    "# Function to Return a List of Bigrams from a String\n",
    "\n",
    "def bigrams(s):\n",
    "    s = s.split()  \n",
    "    return [(s[i], s[i+1]) for i in range(len(s) - 1)]\n",
    "\n",
    "# Example\n",
    "input_string = \"I love programming\"\n",
    "print(bigrams(input_string))"
   ]
  },
  {
   "cell_type": "code",
   "execution_count": 3,
   "metadata": {},
   "outputs": [
    {
     "name": "stdout",
     "output_type": "stream",
     "text": [
      "b\n"
     ]
    }
   ],
   "source": [
    "# Function to Find the Key with the Closest Matching Value\n",
    "\n",
    "def closest_key(input_dict, value):\n",
    "    for key, value_list in input_dict.items():\n",
    "        if value in value_list:\n",
    "            return key\n",
    "    return None\n",
    "\n",
    "# Example usage:\n",
    "input_dict = {\n",
    "    'a': ['apple', 'water melon'],\n",
    "    'b': ['banana', 'mango'],\n",
    "    'c': ['cherry', 'lemon']\n",
    "}\n",
    "input_value = 'banana'\n",
    "print(closest_key(input_dict, input_value))"
   ]
  }
 ],
 "metadata": {
  "kernelspec": {
   "display_name": "Python 3",
   "language": "python",
   "name": "python3"
  },
  "language_info": {
   "codemirror_mode": {
    "name": "ipython",
    "version": 3
   },
   "file_extension": ".py",
   "mimetype": "text/x-python",
   "name": "python",
   "nbconvert_exporter": "python",
   "pygments_lexer": "ipython3",
   "version": "3.12.3"
  }
 },
 "nbformat": 4,
 "nbformat_minor": 2
}
